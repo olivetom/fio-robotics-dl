{
 "nbformat": 4,
 "nbformat_minor": 2,
 "metadata": {
  "language_info": {
   "name": "python",
   "codemirror_mode": {
    "name": "ipython",
    "version": 3
   },
   "version": "3.7.5-final"
  },
  "orig_nbformat": 2,
  "file_extension": ".py",
  "mimetype": "text/x-python",
  "name": "python",
  "npconvert_exporter": "python",
  "pygments_lexer": "ipython3",
  "version": 3,
  "kernelspec": {
   "name": "python37564bitbertelsmannpipenv047cab295b6f4a41934b5c40025a08a1",
   "display_name": "Python 3.7.5 64-bit ('bertelsmann': pipenv)"
  }
 },
 "cells": [
  {
   "cell_type": "markdown",
   "execution_count": null,
   "metadata": {},
   "outputs": [],
   "source": [
    "# XOR perceptron using pytorch tensors only and double layer network"
   ]
  },
  {
   "cell_type": "code",
   "execution_count": 1,
   "metadata": {},
   "outputs": [
    {
     "name": "stdout",
     "output_type": "stream",
     "text": "99 2.7718662858337737\n199 2.7632382342985204\n299 2.139246428035179\n399 0.2715010079183565\n499 0.11792639248631942\n"
    }
   ],
   "source": [
    "import torch\n",
    "\n",
    "# Training data for XOR plus bias\n",
    "x = torch.tensor([[0, 0, 1], [0, 1, 1], [1, 0, 1], [1, 1, 1]], dtype=float)\n",
    "y = torch.tensor([[0], [1], [1], [0]], dtype=float)\n",
    "w1 = torch.randn(3, 2, dtype=float, requires_grad=True)\n",
    "w2 = torch.randn(2, 1, dtype=float, requires_grad=True)\n",
    "b2 = torch.randn(1, 1, dtype=float, requires_grad=True)\n",
    "\n",
    "lr = 5e-1\n",
    "for t in range(500):\n",
    "    y_pred = x.mm(w1).sigmoid().mm(w2).add(b2).sigmoid()\n",
    "    ll = y * y_pred + (1 - y) * (1 - y_pred)\n",
    "    loss = -ll.log().sum()\n",
    "    if t % 100 == 99:\n",
    "        print(t, loss.item())    \n",
    "    \n",
    "    loss.backward()\n",
    "    \n",
    "    with torch.no_grad():\n",
    "        # Update weights using SGD.\n",
    "        w1 -= lr * w1.grad\n",
    "        w2 -= lr * w2.grad\n",
    "        b2 -= lr * b2.grad\n",
    "        \n",
    "        # Clear the gradients for the next iteration.\n",
    "        w1.grad.zero_()\n",
    "        w2.grad.zero_()\n",
    "        b2.grad.zero_()"
   ]
  },
  {
   "cell_type": "code",
   "execution_count": 2,
   "metadata": {},
   "outputs": [
    {
     "name": "stdout",
     "output_type": "stream",
     "text": "weights w1:  tensor([[ 6.0037,  5.0552],\n        [-5.8602, -5.3385],\n        [ 2.9976, -2.7222]], dtype=torch.float64, requires_grad=True) torch.Size([3, 2])\nweights w2:  tensor([[-8.1816],\n        [ 8.8383]], dtype=torch.float64, requires_grad=True) torch.Size([2, 1])\nbiases  b2:  tensor([[3.7175]], dtype=torch.float64, requires_grad=True) torch.Size([1, 1])\n"
    }
   ],
   "source": [
    "print(\"weights w1: \", w1, w1.shape)\n",
    "print(\"weights w2: \", w2, w2.shape) \n",
    "print(\"biases  b2: \", b2, b2.shape) "
   ]
  },
  {
   "cell_type": "code",
   "execution_count": 3,
   "metadata": {},
   "outputs": [
    {
     "data": {
      "text/plain": "tensor([[0.0285],\n        [0.9637],\n        [0.9732],\n        [0.0239]], dtype=torch.float64, grad_fn=<SigmoidBackward>)"
     },
     "execution_count": 3,
     "metadata": {},
     "output_type": "execute_result"
    }
   ],
   "source": [
    "x = torch.tensor([[0, 0, 1], [0, 1, 1], [1, 0, 1], [1, 1, 1]], dtype=float)\n",
    "\n",
    "x.mm(w1).sigmoid().mm(w2).add(b2).sigmoid()"
   ]
  },
  {
   "cell_type": "markdown",
   "execution_count": null,
   "metadata": {},
   "outputs": [],
   "source": [
    "# Now XOR using pytroch nn module and single layer network to see if it works"
   ]
  },
  {
   "cell_type": "code",
   "execution_count": 4,
   "metadata": {},
   "outputs": [
    {
     "name": "stdout",
     "output_type": "stream",
     "text": "99 2.7725887298583984\n199 2.7725887298583984\n299 2.7725887298583984\n399 2.7725887298583984\n499 2.7725887298583984\n"
    }
   ],
   "source": [
    "import torch\n",
    "\n",
    "class SingleLayerNet(torch.nn.Module):\n",
    "    def __init__(self, D_in, D_out):\n",
    "        \"\"\"\n",
    "        In the constructor we instantiate one nn.Linear modules and assign them as\n",
    "        member variables.\n",
    "        \"\"\"\n",
    "        super(SingleLayerNet, self).__init__()\n",
    "        self.linear1 = torch.nn.Linear(D_in, D_out, bias=True)\n",
    "\n",
    "    def forward(self, x):\n",
    "        \"\"\"\n",
    "        In the forward function we accept a Tensor of input data and we must return\n",
    "        a Tensor of output data. We can use Modules defined in the constructor as\n",
    "        well as arbitrary operators on Tensors.\n",
    "        \"\"\"\n",
    "        y_pred = self.linear1(x)\n",
    "        return y_pred\n",
    "\n",
    "# N is batch size; D_in is input dimension;\n",
    "# D_out is output dimension.\n",
    "N, D_in, D_out = 4, 2, 1\n",
    "\n",
    "# Create Tensors to hold inputs and outputs for NAND\n",
    "x = torch.tensor([[0, 0], [0, 1], [1, 0], [1, 1]], dtype=torch.float32)\n",
    "y = torch.tensor([[0], [1], [1], [0]], dtype=torch.float32)\n",
    "# Construct our model by instantiating the class defined above\n",
    "model = SingleLayerNet(D_in, D_out)\n",
    "\n",
    "# Construct our loss function and an Optimizer. The call to model.parameters()\n",
    "# in the SGD constructor will contain the learnable parameters of the single\n",
    "# nn.Linear module which is member of the model.\n",
    "criterion = torch.nn.BCEWithLogitsLoss(size_average=False)\n",
    "optimizer = torch.optim.SGD(model.parameters(), lr=5e-1)\n",
    "for t in range(500):\n",
    "    # Forward pass: Compute predicted y by passing x to the model\n",
    "    y_pred = model(x)\n",
    "\n",
    "    # Compute and print loss\n",
    "    loss = criterion(y_pred, y)\n",
    "    if t % 100 == 99:\n",
    "        print(t, loss.item())\n",
    "\n",
    "    # Zero gradients, perform a backward pass, and update the weights.\n",
    "    optimizer.zero_grad()\n",
    "    loss.backward()\n",
    "    optimizer.step()"
   ]
  },
  {
   "cell_type": "markdown",
   "execution_count": null,
   "metadata": {},
   "outputs": [],
   "source": [
    "# Loss never decrease wich is a bad symptomth "
   ]
  },
  {
   "cell_type": "code",
   "execution_count": 5,
   "metadata": {},
   "outputs": [
    {
     "name": "stdout",
     "output_type": "stream",
     "text": "weights:  tensor([[8.9407e-08, 8.9407e-08]]) torch.Size([1, 2])\nbias:     tensor([-1.4901e-07]) torch.Size([1])\n"
    }
   ],
   "source": [
    "print(\"weights: \", model.state_dict()['linear1.weight'], model.state_dict()['linear1.weight'].shape)\n",
    "print(\"bias:    \", model.state_dict()['linear1.bias'], model.state_dict()['linear1.bias'].shape)"
   ]
  },
  {
   "cell_type": "markdown",
   "execution_count": null,
   "metadata": {},
   "outputs": [],
   "source": [
    "# And we'll see that the model make no distintion between different inputs"
   ]
  },
  {
   "cell_type": "code",
   "execution_count": 6,
   "metadata": {},
   "outputs": [
    {
     "data": {
      "text/plain": "tensor([[0.5000],\n        [0.5000],\n        [0.5000],\n        [0.5000]], grad_fn=<SigmoidBackward>)"
     },
     "execution_count": 6,
     "metadata": {},
     "output_type": "execute_result"
    }
   ],
   "source": [
    "x = torch.tensor([[0, 0], [0, 1], [1, 0], [1, 1]], dtype=torch.float32)\n",
    "model(x).sigmoid()"
   ]
  },
  {
   "cell_type": "markdown",
   "metadata": {},
   "source": [
    "# Finally XOR using pytroch nn module and multi layer network"
   ]
  },
  {
   "cell_type": "code",
   "execution_count": 7,
   "metadata": {},
   "outputs": [
    {
     "name": "stdout",
     "output_type": "stream",
     "text": "99 2.7451202869415283\n199 1.4362913370132446\n299 0.22615067660808563\n399 0.10816438496112823\n499 0.06997331976890564\n"
    }
   ],
   "source": [
    "import torch\n",
    "\n",
    "class DoubleLayerNet(torch.nn.Module):\n",
    "    def __init__(self, D_in, H, D_out):\n",
    "        \"\"\"\n",
    "        In the constructor we instantiate one nn.Linear modules and assign them as\n",
    "        member variables.\n",
    "        \"\"\"\n",
    "        super(DoubleLayerNet, self).__init__()\n",
    "        self.linear1 = torch.nn.Linear(D_in, H, bias=True)\n",
    "        self.linear2 = torch.nn.Linear(H, D_out, bias=True)\n",
    "\n",
    "    def forward(self, x):\n",
    "        \"\"\"\n",
    "        In the forward function we accept a Tensor of input data and we must return\n",
    "        a Tensor of output data. We can use Modules defined in the constructor as\n",
    "        well as arbitrary operators on Tensors.\n",
    "        \"\"\"\n",
    "        h_out = self.linear1(x).sigmoid()\n",
    "        y_pred = self.linear2(h_out)\n",
    "        return y_pred\n",
    "\n",
    "# N is batch size; D_in is input dimension;\n",
    "# D_out is output dimension.\n",
    "N, D_in, H, D_out = 4, 2, 2, 1\n",
    "\n",
    "# Create Tensors to hold inputs and outputs for NAND\n",
    "x = torch.tensor([[0, 0], [0, 1], [1, 0], [1, 1]], dtype=torch.float32)\n",
    "y = torch.tensor([[0], [1], [1], [0]], dtype=torch.float32)\n",
    "# Construct our model by instantiating the class defined above\n",
    "model = DoubleLayerNet(D_in, H, D_out)\n",
    "\n",
    "# Construct our loss function and an Optimizer. The call to model.parameters()\n",
    "# in the SGD constructor will contain the learnable parameters of the double\n",
    "# nn.Linear modules which is member of the model.\n",
    "criterion = torch.nn.BCEWithLogitsLoss(size_average=False)\n",
    "\n",
    "optimizer = torch.optim.SGD(model.parameters(), lr=5e-1)\n",
    "for t in range(500):\n",
    "    # Forward pass: Compute predicted y by passing x to the model\n",
    "    y_pred = model(x)\n",
    "\n",
    "    # Compute and print loss\n",
    "    loss = criterion(y_pred, y)\n",
    "    if t % 100 == 99:\n",
    "        print(t, loss.item())\n",
    "\n",
    "    # Zero gradients, perform a backward pass, and update the weights.\n",
    "    optimizer.zero_grad()\n",
    "    loss.backward()\n",
    "    optimizer.step()"
   ]
  },
  {
   "cell_type": "code",
   "execution_count": 8,
   "metadata": {},
   "outputs": [
    {
     "name": "stdout",
     "output_type": "stream",
     "text": "weights:  tensor([[-6.2539,  6.0694],\n        [-5.6923,  5.9648]]) torch.Size([2, 2])\nbias:     tensor([-3.2886,  2.8270]) torch.Size([2])\n"
    }
   ],
   "source": [
    "print(\"weights: \", model.state_dict()['linear1.weight'], model.state_dict()['linear1.weight'].shape)\n",
    "print(\"bias:    \", model.state_dict()['linear1.bias'], model.state_dict()['linear1.bias'].shape)"
   ]
  },
  {
   "cell_type": "code",
   "execution_count": 10,
   "metadata": {},
   "outputs": [
    {
     "data": {
      "text/plain": "tensor([[0.0169],\n        [0.0142],\n        [0.9770],\n        [0.9851]], grad_fn=<SigmoidBackward>)"
     },
     "execution_count": 10,
     "metadata": {},
     "output_type": "execute_result"
    }
   ],
   "source": [
    "x = torch.tensor([[0, 0], [1, 1], [1, 0], [0, 1]], dtype=torch.float32)\n",
    "model(x).sigmoid()"
   ]
  },
  {
   "cell_type": "code",
   "execution_count": null,
   "metadata": {},
   "outputs": [],
   "source": []
  }
 ]
}