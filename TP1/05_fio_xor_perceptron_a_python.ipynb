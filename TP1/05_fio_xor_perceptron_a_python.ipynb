{
 "nbformat": 4,
 "nbformat_minor": 2,
 "metadata": {
  "language_info": {
   "name": "python",
   "codemirror_mode": {
    "name": "ipython",
    "version": 3
   },
   "version": "3.7.5-final"
  },
  "orig_nbformat": 2,
  "file_extension": ".py",
  "mimetype": "text/x-python",
  "name": "python",
  "npconvert_exporter": "python",
  "pygments_lexer": "ipython3",
  "version": 3,
  "kernelspec": {
   "name": "python37564bitbertelsmannpipenv047cab295b6f4a41934b5c40025a08a1",
   "display_name": "Python 3.7.5 64-bit ('bertelsmann': pipenv)"
  }
 },
 "cells": [
  {
   "cell_type": "code",
   "execution_count": 1,
   "metadata": {},
   "outputs": [],
   "source": [
    "import pandas as pd\n",
    "\n",
    "# TODO: Set weight1, weight2, and bias\n",
    "and_weight1 = 1.\n",
    "and_weight2 = 1.\n",
    "and_bias = -1.5\n",
    "\n",
    "\n",
    "not_weight1 = 0.0\n",
    "not_weight2 = -1\n",
    "not_bias = 0.5\n",
    "\n",
    "or_weight1 = 1\n",
    "or_weight2 = 1\n",
    "or_bias = -0.5\n",
    ""
   ]
  },
  {
   "cell_type": "code",
   "execution_count": 2,
   "metadata": {},
   "outputs": [],
   "source": [
    "# Inputs and outputs\n",
    "#test_inputs = [(0, 0)]\n",
    "#correct_outputs = [False]\n",
    "\n",
    "test_inputs = [(0, 0), (0, 1), (1, 0), (1, 1)]\n",
    "correct_outputs = [False, True, True, False]\n",
    "outputs = []\n",
    ""
   ]
  },
  {
   "cell_type": "code",
   "execution_count": 3,
   "metadata": {},
   "outputs": [],
   "source": [
    "# Generate and check output\n",
    "for test_input, correct_output in zip(test_inputs, correct_outputs):\n",
    "    and_linear_combination = and_weight1 * test_input[0] + and_weight2 * test_input[1] + and_bias\n",
    "    and_output = int(and_linear_combination > 0)\n",
    "    \n",
    "    or_linear_combination = or_weight1 * test_input[0] + or_weight2 * test_input[1] + or_bias\n",
    "    or_output = int(or_linear_combination > 0)\n",
    "\n",
    "    not_linear_combination = not_weight1 * and_output + not_weight2 * and_output + not_bias\n",
    "    not_output = int(not_linear_combination > 0)\n",
    "\n",
    "    final_linear_combination = and_weight1 * not_output + and_weight2 * or_output + and_bias\n",
    "    output = int(final_linear_combination > 0)\n",
    "\n",
    "    is_correct_string = 'Yes' if output == correct_output else 'No'\n",
    "    outputs.append([test_input[0], test_input[1], final_linear_combination, output, is_correct_string])\n",
    "\n",
    ""
   ]
  },
  {
   "cell_type": "code",
   "execution_count": 4,
   "metadata": {},
   "outputs": [
    {
     "output_type": "stream",
     "name": "stdout",
     "text": "Nice!  You got it all correct.\n\n Input 1    Input 2    Linear Combination    Activation Output   Is Correct\n       0          0                  -0.5                    0          Yes\n       0          1                   0.5                    1          Yes\n       1          0                   0.5                    1          Yes\n       1          1                  -0.5                    0          Yes\n"
    }
   ],
   "source": [
    "# Print output\n",
    "num_wrong = len([output[4] for output in outputs if output[4] == 'No'])\n",
    "output_frame = pd.DataFrame(outputs, columns=['Input 1', '  Input 2', '  Linear Combination', '  Activation Output', '  Is Correct'])\n",
    "if not num_wrong:\n",
    "    print('Nice!  You got it all correct.\\n')\n",
    "else:\n",
    "    print('You got {} wrong.  Keep trying!\\n'.format(num_wrong))\n",
    "print(output_frame.to_string(index=False))"
   ]
  },
  {
   "cell_type": "code",
   "execution_count": null,
   "metadata": {},
   "outputs": [],
   "source": []
  }
 ]
}