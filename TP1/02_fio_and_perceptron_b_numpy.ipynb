{
 "nbformat": 4,
 "nbformat_minor": 2,
 "metadata": {
  "language_info": {
   "name": "python",
   "codemirror_mode": {
    "name": "ipython",
    "version": 3
   },
   "version": "3.7.5-final"
  },
  "orig_nbformat": 2,
  "file_extension": ".py",
  "mimetype": "text/x-python",
  "name": "python",
  "npconvert_exporter": "python",
  "pygments_lexer": "ipython3",
  "version": 3,
  "kernelspec": {
   "name": "python37564bitbertelsmannpipenv047cab295b6f4a41934b5c40025a08a1",
   "display_name": "Python 3.7.5 64-bit ('bertelsmann': pipenv)"
  }
 },
 "cells": [
  {
   "cell_type": "code",
   "execution_count": 1,
   "metadata": {},
   "outputs": [],
   "source": [
    "import numpy as np\n",
    "\n",
    "# Training data for AND in the form [x1, x2, bias=1]\n",
    "x = np.array([\n",
    "    [0, 0, 1], \n",
    "    [0, 1, 1], \n",
    "    [1, 0, 1], \n",
    "    [1, 1, 1]\n",
    "    ])\n",
    "y = np.array([0, 0, 0, 1])\n",
    "w = np.array([0.0, 0.0, 0.0])\n",
    "correct_outputs = np.array([False, False, False, True])\n",
    "\n",
    "lr = .3\n",
    "for _ in range(100):\n",
    "    for i in range(len(y)):\n",
    "        y_pred = np.heaviside(np.matmul(x[i], w), 0)\n",
    "        w += (y[i] - y_pred) * lr * x[i]\n",
    ""
   ]
  },
  {
   "cell_type": "code",
   "execution_count": 2,
   "metadata": {},
   "outputs": [
    {
     "output_type": "stream",
     "name": "stdout",
     "text": "Correct: [0. 0. 0. 1.]\n"
    }
   ],
   "source": [
    "outputs = np.heaviside(np.matmul(x, w), 0)\n",
    "comparison = correct_outputs == outputs\n",
    "print(f\"Correct: {outputs}\") if comparison.all() else print(f\"Wrong: {outputs}\")\n",
    ""
   ]
  },
  {
   "cell_type": "markdown",
   "metadata": {},
   "source": [
    "# Another way to train the perceptron is to use advantage of matrix operations that are more faster"
   ]
  },
  {
   "cell_type": "code",
   "execution_count": 3,
   "metadata": {},
   "outputs": [],
   "source": [
    "for _ in range(100):\n",
    "    y_pred = np.heaviside(np.matmul(x, w), 0)\n",
    "    w += np.matmul((y - y_pred), x)"
   ]
  },
  {
   "cell_type": "code",
   "execution_count": 4,
   "metadata": {},
   "outputs": [
    {
     "output_type": "stream",
     "name": "stdout",
     "text": "Correct: [0. 0. 0. 1.]\n"
    }
   ],
   "source": [
    "outputs = np.heaviside(np.dot(x, w), 0)\n",
    "comparison = correct_outputs == outputs\n",
    "print(f\"Correct: {outputs}\") if comparison.all() else print(f\"Wrong: {outputs}\")"
   ]
  },
  {
   "cell_type": "code",
   "execution_count": null,
   "metadata": {},
   "outputs": [],
   "source": []
  }
 ]
}