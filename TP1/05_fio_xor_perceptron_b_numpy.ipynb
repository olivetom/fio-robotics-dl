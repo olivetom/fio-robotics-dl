{
 "nbformat": 4,
 "nbformat_minor": 2,
 "metadata": {
  "language_info": {
   "name": "python",
   "codemirror_mode": {
    "name": "ipython",
    "version": 3
   },
   "version": "3.7.5-final"
  },
  "orig_nbformat": 2,
  "file_extension": ".py",
  "mimetype": "text/x-python",
  "name": "python",
  "npconvert_exporter": "python",
  "pygments_lexer": "ipython3",
  "version": 3,
  "kernelspec": {
   "name": "python37564bitfioroboticsdlpipenv91f98071b8514e70b82150ce77afeabd",
   "display_name": "Python 3.7.5 64-bit ('fio-robotics-dl': pipenv)"
  }
 },
 "cells": [
  {
   "cell_type": "code",
   "execution_count": 6,
   "metadata": {},
   "outputs": [],
   "source": [
    "import numpy as np\n",
    "\n",
    "# Training data for XOR in the form [x1, x2, bias=1]\n",
    "x = np.array([\n",
    "    [0, 0, 1], \n",
    "    [0, 1, 1], \n",
    "    [1, 0, 1], \n",
    "    [1, 1, 1]\n",
    "    ])\n",
    "y = np.array([0, 1, 1, 0])\n",
    "w = np.array([0.0, 0.0, 0.0])\n",
    "correct_outputs = np.array([False, True, True, False])\n",
    "\n",
    "lr = .5\n",
    "for _ in range(1000):\n",
    "    for i in range(len(y)):\n",
    "        y_pred = np.heaviside(np.matmul(x[i], w), 0)\n",
    "        w += (y[i] - y_pred) * lr * x[i]\n",
    ""
   ]
  },
  {
   "cell_type": "code",
   "execution_count": 7,
   "metadata": {},
   "outputs": [
    {
     "output_type": "stream",
     "name": "stdout",
     "text": "Wrong: [1. 1. 0. 0.]\n"
    }
   ],
   "source": [
    "outputs = np.heaviside(np.matmul(x, w), 0)\n",
    "comparison = correct_outputs == outputs\n",
    "print(f\"Correct: {outputs}\") if comparison.all() else print(f\"Wrong: {outputs}\")\n",
    ""
   ]
  }
 ]
}