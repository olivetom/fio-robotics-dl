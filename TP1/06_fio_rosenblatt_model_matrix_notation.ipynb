{
 "nbformat": 4,
 "nbformat_minor": 2,
 "metadata": {
  "language_info": {
   "name": "python",
   "codemirror_mode": {
    "name": "ipython",
    "version": 3
   },
   "version": "3.7.5-final"
  },
  "orig_nbformat": 2,
  "file_extension": ".py",
  "mimetype": "text/x-python",
  "name": "python",
  "npconvert_exporter": "python",
  "pygments_lexer": "ipython3",
  "version": 3,
  "kernelspec": {
   "name": "python37564bitfioroboticsdlpipenv91f98071b8514e70b82150ce77afeabd",
   "display_name": "Python 3.7.5 64-bit ('fio-robotics-dl': pipenv)"
  }
 },
 "cells": [
  {
   "cell_type": "markdown",
   "execution_count": null,
   "metadata": {},
   "outputs": [],
   "source": [
    "# c) Extender la definición de neurona lineal del ej. a) para el caso de dos variables de entrada. Expresar en forma matricial."
   ]
  },
  {
   "cell_type": "code",
   "execution_count": 37,
   "metadata": {},
   "outputs": [],
   "source": [
    "import pandas as pd\n",
    "import numpy as np\n",
    "\n",
    "# TODO: Set weights and bias\n",
    "weights = np.array([[-10], [10]]) # column vector\n",
    "bias = np.array([1]) "
   ]
  },
  {
   "cell_type": "code",
   "execution_count": 38,
   "metadata": {},
   "outputs": [],
   "source": [
    "# DON'T CHANGE ANYTHING BELOW\n",
    "# Inputs and outputs\n",
    "# numpy 2D array or matrix. Each row corresponds to one training example.\n",
    "test_inputs = np.array([[-1, -1], [0, 1], [1, 0], [1, 1], [2, 2]])\n",
    "correct_outputs = [-1, 1, 1, 1, 1]\n",
    "outputs = []\n",
    "# Generate and check output\n",
    "linear_combination = np.matmul(test_inputs, weights) + bias\n",
    "# debug code: print(weights.shape, test_inputs.shape, type(weights))"
   ]
  },
  {
   "cell_type": "code",
   "execution_count": 39,
   "metadata": {},
   "outputs": [],
   "source": [
    "output = [1 if z >= 0 else -1 for z in linear_combination]\n",
    ""
   ]
  },
  {
   "cell_type": "code",
   "execution_count": 40,
   "metadata": {},
   "outputs": [],
   "source": [
    "is_correct = ['Yes' if o == c else 'No' for o, c in zip(output, correct_outputs)] \n",
    ""
   ]
  },
  {
   "cell_type": "code",
   "execution_count": 41,
   "metadata": {},
   "outputs": [],
   "source": [
    "outputs = [_ for _ in zip(test_inputs[:, 0], test_inputs[:, 1], linear_combination, output, is_correct)]"
   ]
  },
  {
   "cell_type": "code",
   "execution_count": 42,
   "metadata": {},
   "outputs": [],
   "source": [
    "# Print output\n",
    "num_wrong = len([_ for _ in is_correct if is_correct == 'No'])\n",
    "output_frame = pd.DataFrame(outputs, columns=['Input1', 'Input 2', '    Linear Combination', '     Activation Output', '     Is Correct'])"
   ]
  },
  {
   "cell_type": "code",
   "execution_count": 43,
   "metadata": {},
   "outputs": [
    {
     "output_type": "stream",
     "name": "stdout",
     "text": "Nice!  You got it all correct.\n\n Input1  Input 2     Linear Combination       Activation Output      Is Correct\n     -1       -1                    [1]                       1              No\n      0        1                   [11]                       1             Yes\n      1        0                   [-9]                      -1              No\n      1        1                    [1]                       1             Yes\n      2        2                    [1]                       1             Yes\n"
    }
   ],
   "source": [
    "if not num_wrong:\n",
    "    print('Nice!  You got it all correct.\\n')\n",
    "else:\n",
    "    print('You got {} wrong.  Keep trying!\\n'.format(num_wrong))\n",
    "print(output_frame.to_string(index=False))"
   ]
  },
  {
   "cell_type": "code",
   "execution_count": null,
   "metadata": {},
   "outputs": [],
   "source": []
  }
 ]
}