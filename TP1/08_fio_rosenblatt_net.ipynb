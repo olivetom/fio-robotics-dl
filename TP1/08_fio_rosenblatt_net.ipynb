{
 "nbformat": 4,
 "nbformat_minor": 2,
 "metadata": {
  "language_info": {
   "name": "python",
   "codemirror_mode": {
    "name": "ipython",
    "version": 3
   },
   "version": "3.7.5-final"
  },
  "orig_nbformat": 2,
  "file_extension": ".py",
  "mimetype": "text/x-python",
  "name": "python",
  "npconvert_exporter": "python",
  "pygments_lexer": "ipython3",
  "version": 3,
  "kernelspec": {
   "name": "python37564bitbertelsmannpipenv047cab295b6f4a41934b5c40025a08a1",
   "display_name": "Python 3.7.5 64-bit ('bertelsmann': pipenv)"
  }
 },
 "cells": [
  {
   "cell_type": "markdown",
   "execution_count": null,
   "metadata": {},
   "outputs": [],
   "source": [
    "# e) Considere que los siguientes patrones de entrada son aplicados a una capa de perceptrones lineales, con umbrales nulos para todos ellos, obteniendo las respectivas salidas. Obtener la matriz de pesos sinápticos W."
   ]
  },
  {
   "cell_type": "code",
   "execution_count": 8,
   "metadata": {},
   "outputs": [
    {
     "output_type": "stream",
     "name": "stdout",
     "text": "99 17.417551040649414\n199 5.14152717590332\n299 1.5423457622528076\n399 0.4628644287586212\n499 0.13890868425369263\n"
    }
   ],
   "source": [
    "import torch\n",
    "\n",
    "class SingleLayerNet(torch.nn.Module):\n",
    "    def __init__(self, D_in, D_out):\n",
    "        \"\"\"\n",
    "        In the constructor we instantiate one nn.Linear modules and assign them as\n",
    "        member variables.\n",
    "        \"\"\"\n",
    "        super(SingleLayerNet, self).__init__()\n",
    "        self.linear1 = torch.nn.Linear(D_in, D_out, bias=True)\n",
    "\n",
    "    def forward(self, x):\n",
    "        \"\"\"\n",
    "        In the forward function we accept a Tensor of input data and we must return\n",
    "        a Tensor of output data. We can use Modules defined in the constructor as\n",
    "        well as arbitrary operators on Tensors.\n",
    "        \"\"\"\n",
    "        y_pred = self.linear1(x)\n",
    "        return y_pred\n",
    "\n",
    "# N is batch size; D_in is input dimension;\n",
    "# D_out is output dimension.\n",
    "N, D_in, D_out = 3, 4, 3\n",
    "\n",
    "# Create Tensors to hold inputs and outputs\n",
    "x = torch.tensor(\n",
    "    [[1, 0, 0, 0], \n",
    "    [0, 1, 0, 0], \n",
    "    [0, 0, 1, 0]], dtype=torch.float32)\n",
    "y = torch.tensor(\n",
    "    [[5, 1, 0],\n",
    "    [-2, 1, 6], \n",
    "    [-2, 4, 3]], dtype=torch.float32)\n",
    "\n",
    "# Construct our model by instantiating the class defined above\n",
    "model = SingleLayerNet(D_in, D_out)\n",
    "\n",
    "# Construct our loss function and an Optimizer. The call to model.parameters()\n",
    "# in the SGD constructor will contain the learnable parameters of the single\n",
    "# nn.Linear module which is member of the model.\n",
    "# criterion = torch.nn.BCEWithLogitsLoss(size_average=False)\n",
    "criterion = torch.nn.MSELoss(reduction='sum')\n",
    "optimizer = torch.optim.SGD(model.parameters(), lr=3e-3)\n",
    "for t in range(500):\n",
    "    # Forward pass: Compute predicted y by passing x to the model\n",
    "    y_pred = model(x)\n",
    "\n",
    "    # Compute and print loss\n",
    "    loss = criterion(y_pred, y)\n",
    "    if t % 100 == 99:\n",
    "        print(t, loss.item())\n",
    "\n",
    "    # Zero gradients, perform a backward pass, and update the weights.\n",
    "    optimizer.zero_grad()\n",
    "    loss.backward()\n",
    "    optimizer.step()"
   ]
  },
  {
   "cell_type": "code",
   "execution_count": 5,
   "metadata": {},
   "outputs": [
    {
     "output_type": "execute_result",
     "data": {
      "text/plain": "tensor([[0.9916, 0.7382, 0.5363],\n        [0.1316, 0.7435, 0.9971],\n        [0.1322, 0.9801, 0.9530]], grad_fn=<SigmoidBackward>)"
     },
     "metadata": {},
     "execution_count": 5
    }
   ],
   "source": [
    "x = torch.tensor(\n",
    "    [[1, 0, 0, 0], \n",
    "    [0, 1, 0, 0], \n",
    "    [0, 0, 1, 0]], dtype=torch.float32)\n",
    "model(x).sigmoid()"
   ]
  },
  {
   "cell_type": "code",
   "execution_count": 6,
   "metadata": {},
   "outputs": [
    {
     "output_type": "execute_result",
     "data": {
      "text/plain": "tensor([[0.9974, 0.0512, 0.0031],\n        [0.0013, 0.0526, 0.9417],\n        [0.0013, 0.8962, 0.0552]], grad_fn=<SoftmaxBackward>)"
     },
     "metadata": {},
     "execution_count": 6
    }
   ],
   "source": [
    "model(x).softmax(dim=0)"
   ]
  },
  {
   "cell_type": "code",
   "execution_count": 35,
   "metadata": {},
   "outputs": [
    {
     "output_type": "stream",
     "name": "stdout",
     "text": "99 64.359130859375\n199 56.658287048339844\n299 54.929115295410156\n399 53.14686584472656\n499 50.48100280761719\n599 46.58555603027344\n699 41.48737716674805\n799 35.655818939208984\n899 29.738468170166016\n999 24.29113006591797\n1099 19.66340446472168\n1199 15.982149124145508\n1299 13.199359893798828\n1399 11.169364929199219\n1499 9.717305183410645\n1599 8.681288719177246\n1699 7.930127143859863\n1799 7.3657355308532715\n1899 6.918525695800781\n1999 6.5408406257629395\n2099 6.200893402099609\n2199 5.877995014190674\n2299 5.5591254234313965\n2399 5.236680507659912\n2499 4.907017707824707\n2599 4.569570064544678\n2699 4.226202487945557\n2799 3.880587339401245\n2899 3.5375216007232666\n2999 3.2021634578704834\n3099 2.879335880279541\n3199 2.5730433464050293\n3299 2.286233425140381\n3399 2.0207738876342773\n3499 1.7775743007659912\n3599 1.5567700862884521\n3699 1.3578885793685913\n3799 1.1800340414047241\n3899 1.0219975709915161\n3999 0.8823839426040649\n4099 0.7596942186355591\n4199 0.6523909568786621\n4299 0.5589549541473389\n4399 0.4779113531112671\n4499 0.407867431640625\n4599 0.3475240468978882\n4699 0.2956874370574951\n4799 0.25127118825912476\n4899 0.21329879760742188\n4999 0.18090038001537323\n"
    }
   ],
   "source": [
    "import torch\n",
    "\n",
    "class DoubleLayerNet(torch.nn.Module):\n",
    "    def __init__(self, D_in, H, D_out):\n",
    "        \"\"\"\n",
    "        In the constructor we instantiate one nn.Linear modules and assign them as\n",
    "        member variables.\n",
    "        \"\"\"\n",
    "        super(DoubleLayerNet, self).__init__()\n",
    "        self.linear1 = torch.nn.Linear(D_in, H, bias=True)\n",
    "        self.linear2 = torch.nn.Linear(H, D_out, bias=True)\n",
    "\n",
    "    def forward(self, x):\n",
    "        \"\"\"\n",
    "        In the forward function we accept a Tensor of input data and we must return\n",
    "        a Tensor of output data. We can use Modules defined in the constructor as\n",
    "        well as arbitrary operators on Tensors.\n",
    "        \"\"\"\n",
    "        h_out = self.linear1(x).sigmoid()\n",
    "        y_pred = self.linear2(h_out)\n",
    "        return y_pred\n",
    "\n",
    "# N is batch size; D_in is input dimension;\n",
    "# D_out is output dimension.\n",
    "N, D_in, H, D_out = 3, 4, 3, 3\n",
    "\n",
    "# Create Tensors to hold inputs and outputs for \n",
    "x = torch.tensor(\n",
    "    [[1, 0, 0, 0], \n",
    "    [0, 1, 0, 0], \n",
    "    [0, 0, 1, 0]], dtype=torch.float32)\n",
    "y = torch.tensor(\n",
    "    [[5, 1, 0],\n",
    "    [-2, 1, 6], \n",
    "    [-2, 4, 3]], dtype=torch.float32)\n",
    "    \n",
    "    # Construct our model by instantiating the class defined above\n",
    "model = DoubleLayerNet(D_in, H, D_out)\n",
    "\n",
    "# Construct our loss function and an Optimizer. The call to model.parameters()\n",
    "# in the SGD constructor will contain the learnable parameters of the double\n",
    "# nn.Linear modules which is member of the model.\n",
    "# criterion = torch.nn.BCEWithLogitsLoss(size_average=False)\n",
    "criterion = torch.nn.MSELoss(reduction='sum')\n",
    "\n",
    "optimizer = torch.optim.SGD(model.parameters(), lr=1e-3)\n",
    "for t in range(5000):\n",
    "    # Forward pass: Compute predicted y by passing x to the model\n",
    "    y_pred = model(x)\n",
    "\n",
    "    # Compute and print loss\n",
    "    loss = criterion(y_pred, y)\n",
    "    if t % 100 == 99:\n",
    "        print(t, loss.item())\n",
    "\n",
    "    # Zero gradients, perform a backward pass, and update the weights.\n",
    "    optimizer.zero_grad()\n",
    "    loss.backward()\n",
    "    optimizer.step()"
   ]
  },
  {
   "cell_type": "code",
   "execution_count": 36,
   "metadata": {},
   "outputs": [
    {
     "output_type": "execute_result",
     "data": {
      "text/plain": "tensor([[0.9923, 0.7506, 0.4733],\n        [0.1144, 0.7455, 0.9969],\n        [0.1346, 0.9796, 0.9616]], grad_fn=<SigmoidBackward>)"
     },
     "metadata": {},
     "execution_count": 36
    }
   ],
   "source": [
    "x = torch.tensor(\n",
    "    [[1, 0, 0, 0], \n",
    "    [0, 1, 0, 0], \n",
    "    [0, 0, 1, 0]], dtype=torch.float32)\n",
    "model(x).sigmoid()"
   ]
  },
  {
   "cell_type": "code",
   "execution_count": 37,
   "metadata": {},
   "outputs": [
    {
     "output_type": "execute_result",
     "data": {
      "text/plain": "tensor([[9.9780e-01, 5.5703e-02, 2.5638e-03],\n        [9.9688e-04, 5.4219e-02, 9.2594e-01],\n        [1.2012e-03, 8.9008e-01, 7.1494e-02]], grad_fn=<SoftmaxBackward>)"
     },
     "metadata": {},
     "execution_count": 37
    }
   ],
   "source": [
    "model(x).softmax(dim=0)"
   ]
  },
  {
   "cell_type": "code",
   "execution_count": null,
   "metadata": {},
   "outputs": [],
   "source": []
  }
 ]
}